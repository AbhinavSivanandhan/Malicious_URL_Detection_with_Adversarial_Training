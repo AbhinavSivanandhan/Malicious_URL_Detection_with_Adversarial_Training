{
 "cells": [
  {
   "cell_type": "code",
   "execution_count": 1,
   "metadata": {},
   "outputs": [],
   "source": [
    "import numpy as np\n",
    "import pandas as pd\n",
    "import seaborn as sns\n",
    "import matplotlib.pyplot as plt\n",
    "from sklearn import tree"
   ]
  },
  {
   "cell_type": "code",
   "execution_count": 2,
   "metadata": {},
   "outputs": [],
   "source": [
    "from sklearn.metrics import accuracy_score,confusion_matrix,classification_report"
   ]
  },
  {
   "cell_type": "code",
   "execution_count": 3,
   "metadata": {},
   "outputs": [],
   "source": [
    "data=pd.read_csv('dataset.csv')"
   ]
  },
  {
   "cell_type": "code",
   "execution_count": 4,
   "metadata": {},
   "outputs": [],
   "source": [
    "# to clean up the column names\n",
    "data.columns = data.columns.\\\n",
    "    str.strip().\\\n",
    "    str.lower()\n"
   ]
  },
  {
   "cell_type": "code",
   "execution_count": 5,
   "metadata": {},
   "outputs": [],
   "source": [
    "#this will remove non-numeric columns   \n",
    "data = data.select_dtypes(['number']) "
   ]
  },
  {
   "cell_type": "code",
   "execution_count": 6,
   "metadata": {},
   "outputs": [],
   "source": [
    "#extracting dependent and independent variable\n",
    "x=data.drop(['type'],axis=1)\n",
    "y=data['type']\n",
    "x=np.nan_to_num(x) #this replace nan with 0 & inf with finite numbers"
   ]
  },
  {
   "cell_type": "code",
   "execution_count": 7,
   "metadata": {},
   "outputs": [],
   "source": [
    "#to split the data into training $=& test datasets\n",
    "from sklearn.model_selection import train_test_split\n",
    "x_train,x_test,y_train,y_test=train_test_split(x,y,test_size=1/3,random_state=44)"
   ]
  },
  {
   "cell_type": "code",
   "execution_count": 8,
   "metadata": {},
   "outputs": [
    {
     "name": "stderr",
     "output_type": "stream",
     "text": [
      "E:\\Anaconda\\lib\\site-packages\\sklearn\\linear_model\\_logistic.py:762: ConvergenceWarning: lbfgs failed to converge (status=1):\n",
      "STOP: TOTAL NO. of ITERATIONS REACHED LIMIT.\n",
      "\n",
      "Increase the number of iterations (max_iter) or scale the data as shown in:\n",
      "    https://scikit-learn.org/stable/modules/preprocessing.html\n",
      "Please also refer to the documentation for alternative solver options:\n",
      "    https://scikit-learn.org/stable/modules/linear_model.html#logistic-regression\n",
      "  n_iter_i = _check_optimize_result(\n"
     ]
    },
    {
     "data": {
      "text/plain": [
       "LogisticRegression(random_state=42)"
      ]
     },
     "execution_count": 8,
     "metadata": {},
     "output_type": "execute_result"
    }
   ],
   "source": [
    "#Logistic Regression\n",
    "from sklearn.linear_model import LogisticRegression\n",
    "\n",
    "classifier=LogisticRegression(random_state=42)\n",
    "classifier.fit(x_train,y_train)\n"
   ]
  },
  {
   "cell_type": "code",
   "execution_count": 9,
   "metadata": {},
   "outputs": [],
   "source": [
    "pred2 = classifier.predict(x_test)"
   ]
  },
  {
   "cell_type": "code",
   "execution_count": 10,
   "metadata": {},
   "outputs": [
    {
     "name": "stdout",
     "output_type": "stream",
     "text": [
      "For Logistic Regression accuracy score is  0.8720538720538721\n",
      "For Logistic Regression confusion_matrix is: \n",
      "\n",
      " [[500  14]\n",
      " [ 62  18]]\n",
      "For Logistic Regression Classification Report: \n",
      "\n",
      "               precision    recall  f1-score   support\n",
      "\n",
      "           0       0.89      0.97      0.93       514\n",
      "           1       0.56      0.23      0.32        80\n",
      "\n",
      "    accuracy                           0.87       594\n",
      "   macro avg       0.73      0.60      0.63       594\n",
      "weighted avg       0.85      0.87      0.85       594\n",
      "\n"
     ]
    }
   ],
   "source": [
    "#calc accuracy for logistic regression\n",
    "print('For Logistic Regression accuracy score is ',accuracy_score(y_test,pred2))\n",
    "print('For Logistic Regression confusion_matrix is: \\n\\n',confusion_matrix(y_test,pred2))\n",
    "print ('For Logistic Regression Classification Report: \\n\\n',classification_report(y_test,pred2))\n"
   ]
  },
  {
   "cell_type": "code",
   "execution_count": 11,
   "metadata": {},
   "outputs": [],
   "source": [
    "#KNN\n",
    "from sklearn.neighbors import KNeighborsClassifier\n",
    "\n",
    "classifier2=KNeighborsClassifier(n_neighbors=5,metric='minkowski',p=2) #multi/N-dimensional distance\n",
    "classifier2.fit(x_train,y_train)\n",
    "\n",
    "pred3=classifier2.predict(x_test)"
   ]
  },
  {
   "cell_type": "code",
   "execution_count": 12,
   "metadata": {},
   "outputs": [
    {
     "name": "stdout",
     "output_type": "stream",
     "text": [
      "For KNN accuracy score is  0.9191919191919192\n",
      "For  KNN confusion_matrix is: \n",
      "\n",
      " [[497  17]\n",
      " [ 31  49]]\n",
      "For  KNN Classification Report: \n",
      "\n",
      "               precision    recall  f1-score   support\n",
      "\n",
      "           0       0.94      0.97      0.95       514\n",
      "           1       0.74      0.61      0.67        80\n",
      "\n",
      "    accuracy                           0.92       594\n",
      "   macro avg       0.84      0.79      0.81       594\n",
      "weighted avg       0.91      0.92      0.92       594\n",
      "\n"
     ]
    }
   ],
   "source": [
    "#calc accuracy for KNN\n",
    "print('For KNN accuracy score is ',accuracy_score(y_test,pred3))\n",
    "print('For  KNN confusion_matrix is: \\n\\n',confusion_matrix(y_test,pred3))\n",
    "print ('For  KNN Classification Report: \\n\\n',classification_report(y_test,pred3))"
   ]
  },
  {
   "cell_type": "code",
   "execution_count": 13,
   "metadata": {},
   "outputs": [
    {
     "name": "stdout",
     "output_type": "stream",
     "text": [
      "For Random Forest accuracy score is  0.9579124579124579\n",
      "For Random Forest confusion_matrix is: \n",
      "\n",
      " [[507   7]\n",
      " [ 18  62]]\n",
      "For Random Forest Classification Report: \n",
      "\n",
      "               precision    recall  f1-score   support\n",
      "\n",
      "           0       0.97      0.99      0.98       514\n",
      "           1       0.90      0.78      0.83        80\n",
      "\n",
      "    accuracy                           0.96       594\n",
      "   macro avg       0.93      0.88      0.90       594\n",
      "weighted avg       0.96      0.96      0.96       594\n",
      "\n"
     ]
    }
   ],
   "source": [
    "#Random forest\n",
    "from sklearn.ensemble import RandomForestClassifier\n",
    "\n",
    "rfc=RandomForestClassifier(n_estimators=100)\n",
    "rfc.fit(x_train,y_train)\n",
    "\n",
    "pred1=rfc.predict(x_test)\n",
    "\n",
    "#accuracy for random forest\n",
    "print('For Random Forest accuracy score is ',accuracy_score(y_test,pred1))\n",
    "print('For Random Forest confusion_matrix is: \\n\\n',confusion_matrix(y_test,pred1))\n",
    "print ('For Random Forest Classification Report: \\n\\n',classification_report(y_test,pred1))\n"
   ]
  },
  {
   "cell_type": "code",
   "execution_count": 16,
   "metadata": {},
   "outputs": [
    {
     "name": "stdout",
     "output_type": "stream",
     "text": [
      "For GradientBoostingClassifier accuracy score is  0.9511784511784511\n",
      "For GradientBoostingClassifier confusion_matrix is: \n",
      "\n",
      " [[503  11]\n",
      " [ 18  62]]\n",
      "For GradientBoostingClassifier Classification Report: \n",
      "\n",
      "               precision    recall  f1-score   support\n",
      "\n",
      "           0       0.97      0.98      0.97       514\n",
      "           1       0.85      0.78      0.81        80\n",
      "\n",
      "    accuracy                           0.95       594\n",
      "   macro avg       0.91      0.88      0.89       594\n",
      "weighted avg       0.95      0.95      0.95       594\n",
      "\n"
     ]
    }
   ],
   "source": [
    "#Random forest\n",
    "from sklearn.ensemble import GradientBoostingClassifier\n",
    "\n",
    "rfc=GradientBoostingClassifier(n_estimators=100)\n",
    "rfc.fit(x_train,y_train)\n",
    "\n",
    "pred1=rfc.predict(x_test)\n",
    "\n",
    "#accuracy for random forest\n",
    "print('For GradientBoostingClassifier accuracy score is ',accuracy_score(y_test,pred1))\n",
    "print('For GradientBoostingClassifier confusion_matrix is: \\n\\n',confusion_matrix(y_test,pred1))\n",
    "print ('For GradientBoostingClassifier Classification Report: \\n\\n',classification_report(y_test,pred1))\n"
   ]
  },
  {
   "cell_type": "code",
   "execution_count": null,
   "metadata": {},
   "outputs": [],
   "source": []
  }
 ],
 "metadata": {
  "kernelspec": {
   "display_name": "Python 3",
   "language": "python",
   "name": "python3"
  },
  "language_info": {
   "codemirror_mode": {
    "name": "ipython",
    "version": 3
   },
   "file_extension": ".py",
   "mimetype": "text/x-python",
   "name": "python",
   "nbconvert_exporter": "python",
   "pygments_lexer": "ipython3",
   "version": "3.7.3"
  }
 },
 "nbformat": 4,
 "nbformat_minor": 4
}
