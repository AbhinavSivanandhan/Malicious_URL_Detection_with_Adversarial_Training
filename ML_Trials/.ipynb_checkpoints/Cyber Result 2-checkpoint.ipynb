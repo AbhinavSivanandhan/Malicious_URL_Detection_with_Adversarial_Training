{
 "cells": [
  {
   "cell_type": "code",
   "execution_count": 1,
   "metadata": {},
   "outputs": [
    {
     "name": "stderr",
     "output_type": "stream",
     "text": [
      "E:\\Anaconda\\lib\\site-packages\\sklearn\\linear_model\\logistic.py:432: FutureWarning: Default solver will be changed to 'lbfgs' in 0.22. Specify a solver to silence this warning.\n",
      "  FutureWarning)\n"
     ]
    },
    {
     "name": "stdout",
     "output_type": "stream",
     "text": [
      "score: 98.51 %\n"
     ]
    }
   ],
   "source": [
    "import pandas as pd\n",
    "import numpy as np\n",
    "import random\n",
    "import pickle\n",
    "\n",
    "from sklearn.model_selection import train_test_split\n",
    "from sklearn.feature_extraction.text import TfidfVectorizer\n",
    "from sklearn.linear_model import LogisticRegression\n",
    "\n",
    "# Logistic Regression -> binary regression aasupmtions: dichotomous (binary) result: yes/no\n",
    "# A key difference from linear regression is that the output value being modeled is a binary values (0 or 1) rather than a numeric value.\n",
    "#  https://machinelearningmastery.com/logistic-regression-for-machine-learning/\n",
    "\n",
    "def sanitization(web):                      # tokenizing method\n",
    "    web = web.lower()\n",
    "    token = []\n",
    "    dot_token_slash = []\n",
    "    raw_slash = str(web).split('/')\n",
    "    for i in raw_slash:\n",
    "        raw1 = str(i).split('-')            # removing slash to get token\n",
    "        slash_token = []\n",
    "        for j in range(0,len(raw1)):\n",
    "            raw2 = str(raw1[j]).split('.')  # removing dot to get the tokens\n",
    "            slash_token = slash_token + raw2\n",
    "        dot_token_slash = dot_token_slash + raw1 + slash_token # all tokens\n",
    "    token = list(set(dot_token_slash))      # to remove same words  \n",
    "    if 'com' in token:\n",
    "        token.remove('com')                 # remove com\n",
    "    return token\n",
    "\n",
    "url = 'urldataset.csv'\n",
    "url_csv = pd.read_csv(url,',',error_bad_lines=False)\n",
    "url_df = pd.DataFrame(url_csv)              # to convert into data frames                                                                                  \n",
    "url_df = np.array(url_df)                   # to convert into array   \n",
    "random.shuffle(url_df)\n",
    "y = [d[1] for d in url_df]                  # all labels\n",
    "urls = [d[0] for d in url_df]               # all urls corresponding to a label {G/B}\n",
    "#http://blog.christianperone.com/2011/09/machine-learning-text-feature-extraction-tf-idf-part-i/  useful\n",
    "\n",
    "vectorizer = TfidfVectorizer(tokenizer=sanitization)  # term-frequency and inverse-document-frequency\n",
    "x = vectorizer.fit_transform(urls)\n",
    "x_train, x_test, y_train, y_test = train_test_split(x, y, test_size=0.2, random_state=42)\n",
    "from sklearn.ensemble import GradientBoostingClassifier\n",
    "lgr = GradientBoostingClassifier()                  \n",
    "lgr.fit(x_train, y_train)\n",
    "score = lgr.score(x_test, y_test)\n",
    "print(\"score: {0:.2f} %\".format(100 * score))\n",
    "vectorizer_save = vectorizer\n",
    "\n",
    "\n",
    "file = \"pickel_model.pkl\"\n",
    "with open(file, 'wb') as f:\n",
    "    pickle.dump(lgr, f)\n",
    "f.close()\n",
    "\n",
    "file2 = \"pickel_vector.pkl\"\n",
    "with open(file2,'wb') as f2:\n",
    "    pickle.dump(vectorizer_save, f2)\n",
    "f2.close()"
   ]
  },
  {
   "cell_type": "code",
   "execution_count": 5,
   "metadata": {},
   "outputs": [
    {
     "name": "stdout",
     "output_type": "stream",
     "text": [
      "['bad' 'bad' 'bad' 'good']\n"
     ]
    }
   ],
   "source": [
    "X_predict = ['yahoo.fr','www.radsport-voggel.de/wp-admin/includes/log.exe','hello.ru','google.com']\n",
    "X_predict = vectorizer.transform(X_predict)\n",
    "y_Predict = lgr.predict(X_predict)\n",
    "print(y_Predict)"
   ]
  },
  {
   "cell_type": "code",
   "execution_count": 8,
   "metadata": {},
   "outputs": [
    {
     "name": "stdout",
     "output_type": "stream",
     "text": [
      "['bad' 'bad' 'bad' 'good']\n"
     ]
    }
   ],
   "source": [
    "X_predict = ['rfgwf.ac.in','www.radsport-voggel.de/wp-admin/includes/log.exe','hello.ru','google.com']\n",
    "X_predict = vectorizer.transform(X_predict)\n",
    "y_Predict = lgr.predict(X_predict)\n",
    "print(y_Predict)"
   ]
  },
  {
   "cell_type": "code",
   "execution_count": null,
   "metadata": {},
   "outputs": [],
   "source": []
  }
 ],
 "metadata": {
  "kernelspec": {
   "display_name": "Python 3",
   "language": "python",
   "name": "python3"
  },
  "language_info": {
   "codemirror_mode": {
    "name": "ipython",
    "version": 3
   },
   "file_extension": ".py",
   "mimetype": "text/x-python",
   "name": "python",
   "nbconvert_exporter": "python",
   "pygments_lexer": "ipython3",
   "version": "3.8.3"
  }
 },
 "nbformat": 4,
 "nbformat_minor": 4
}
