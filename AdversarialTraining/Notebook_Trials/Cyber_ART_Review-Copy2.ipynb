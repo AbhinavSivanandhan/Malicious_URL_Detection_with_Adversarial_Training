{
 "cells": [
  {
   "cell_type": "code",
   "execution_count": 1,
   "metadata": {},
   "outputs": [],
   "source": [
    "from sklearn.ensemble import GradientBoostingClassifier\n",
    "import numpy as np\n",
    "from matplotlib import pyplot as plt\n",
    "import art#fully initialise module\n",
    "from art.estimators.classification import SklearnClassifier\n",
    "from art.attacks.evasion import ZooAttack\n",
    "import warnings\n",
    "warnings.filterwarnings('ignore')"
   ]
  },
  {
   "cell_type": "code",
   "execution_count": 2,
   "metadata": {},
   "outputs": [],
   "source": [
    "import numpy as np\n",
    "import pandas as pd\n",
    "import seaborn as sns\n",
    "import matplotlib.pyplot as plt\n",
    "from sklearn import tree\n",
    "\n",
    "from sklearn.metrics import accuracy_score,confusion_matrix,classification_report\n",
    "\n",
    "data=pd.read_csv('dataset.csv')\n",
    "\n",
    "# clean up column names\n",
    "\n",
    "data.columns = data.columns.\\\n",
    "    str.strip().\\\n",
    "    str.lower()\n",
    "\n",
    "#____remove non-numeric columns\n",
    "    \n",
    "data = data.select_dtypes(['number']) \n",
    "\n",
    "\n",
    "#__extracting dependent and independent variable\n",
    "\n",
    "x=data.drop(['type'],axis=1)\n",
    "y=data['type']\n",
    "x=np.nan_to_num(x) #____replace nan with zero and inf with finite numbers"
   ]
  },
  {
   "cell_type": "code",
   "execution_count": 3,
   "metadata": {},
   "outputs": [],
   "source": [
    "#______Splitting the data into Training and test dataset\n",
    "from sklearn.model_selection import train_test_split\n",
    "\n",
    "x_train,x_test,y_train,y_test=train_test_split(x,y,test_size=1/3,random_state=44)"
   ]
  },
  {
   "cell_type": "code",
   "execution_count": 4,
   "metadata": {},
   "outputs": [],
   "source": [
    "from sklearn.ensemble import RandomForestClassifier\n",
    "\n",
    "rfc=RandomForestClassifier(n_estimators=100)\n",
    "rfc.fit(x_train,y_train)\n",
    "\n",
    "pred1=rfc.predict(x_test)"
   ]
  },
  {
   "cell_type": "code",
   "execution_count": 5,
   "metadata": {},
   "outputs": [
    {
     "name": "stdout",
     "output_type": "stream",
     "text": [
      "For Random Forest accuracy score is  0.9612794612794613\n",
      "For Random Forest confusion_matrix is: \n",
      "\n",
      " [[507   7]\n",
      " [ 16  64]]\n",
      "For Random Forest Classification Report: \n",
      "\n",
      "               precision    recall  f1-score   support\n",
      "\n",
      "           0       0.97      0.99      0.98       514\n",
      "           1       0.90      0.80      0.85        80\n",
      "\n",
      "    accuracy                           0.96       594\n",
      "   macro avg       0.94      0.89      0.91       594\n",
      "weighted avg       0.96      0.96      0.96       594\n",
      "\n",
      "False Positive Rate: 0.013618677042801557\n"
     ]
    }
   ],
   "source": [
    "#accuracy for random forest\n",
    "print('For Random Forest accuracy score is ',accuracy_score(y_test,pred1))\n",
    "print('For Random Forest confusion_matrix is: \\n\\n',confusion_matrix(y_test,pred1))\n",
    "print ('For Random Forest Classification Report: \\n\\n',classification_report(y_test,pred1))\n",
    "false_positive_rate=confusion_matrix(y_test,pred1)[0][1]/(confusion_matrix(y_test,pred1)[0][0]+confusion_matrix(y_test,pred1)[0][1])\n",
    "print(\"False Positive Rate: \"+str(false_positive_rate))"
   ]
  },
  {
   "cell_type": "code",
   "execution_count": 6,
   "metadata": {},
   "outputs": [
    {
     "name": "stderr",
     "output_type": "stream",
     "text": [
      "ZOO: 100%|█████████████████████████████████████████████████████████████████████████| 1187/1187 [00:28<00:00, 41.86it/s]\n"
     ]
    }
   ],
   "source": [
    "model = GradientBoostingClassifier()\n",
    "model.fit(X=x_train, y=y_train)\n",
    "\n",
    "# Create ART classifier for scikit-learn GradientBoostingClassifier\n",
    "art_classifier = SklearnClassifier(model=model)\n",
    "\n",
    "# Create ART Zeroth Order Optimization attack\n",
    "zoo = ZooAttack(classifier=art_classifier, confidence=0.0, targeted=False, learning_rate=1e-1, max_iter=20,\n",
    "                binary_search_steps=10, initial_const=1e-3, abort_early=True, use_resize=False, \n",
    "                use_importance=False, nb_parallel=1, batch_size=1, variable_h=0.2)\n",
    "\n",
    "# Generate adversarial samples with ART Zeroth Order Optimization attack\n",
    "x_train_adv = zoo.generate(x_train)"
   ]
  },
  {
   "cell_type": "code",
   "execution_count": 7,
   "metadata": {},
   "outputs": [
    {
     "data": {
      "text/plain": [
       "array([[4.9000e+01, 9.0000e+00, 3.2400e+02, ..., 0.0000e+00, 0.0000e+00,\n",
       "        0.0000e+00],\n",
       "       [4.8000e+01, 1.1000e+01, 6.4000e+02, ..., 3.4940e+03, 3.1000e+01,\n",
       "        8.0000e+00],\n",
       "       [6.1000e+01, 1.2000e+01, 3.9198e+04, ..., 0.0000e+00, 0.0000e+00,\n",
       "        0.0000e+00],\n",
       "       ...,\n",
       "       [6.0000e+01, 1.1000e+01, 0.0000e+00, ..., 5.3920e+03, 3.5000e+01,\n",
       "        6.0000e+00],\n",
       "       [4.6000e+01, 9.0000e+00, 0.0000e+00, ..., 5.6400e+02, 6.0000e+00,\n",
       "        0.0000e+00],\n",
       "       [7.5000e+01, 1.6000e+01, 0.0000e+00, ..., 4.2470e+03, 4.1000e+01,\n",
       "        8.0000e+00]])"
      ]
     },
     "execution_count": 7,
     "metadata": {},
     "output_type": "execute_result"
    }
   ],
   "source": [
    "x_train_adv"
   ]
  },
  {
   "cell_type": "code",
   "execution_count": 9,
   "metadata": {},
   "outputs": [
    {
     "name": "stderr",
     "output_type": "stream",
     "text": [
      "ZOO: 100%|███████████████████████████████████████████████████████████████████████████| 594/594 [00:14<00:00, 41.71it/s]\n"
     ]
    }
   ],
   "source": [
    "x_test_adv = zoo.generate(x_test)"
   ]
  },
  {
   "cell_type": "code",
   "execution_count": 10,
   "metadata": {},
   "outputs": [
    {
     "data": {
      "text/plain": [
       "array([[5.1000e+01, 1.0000e+01, 0.0000e+00, ..., 5.0930e+03, 4.1000e+01,\n",
       "        6.0000e+00],\n",
       "       [5.6000e+01, 9.0000e+00, 0.0000e+00, ..., 2.4160e+03, 2.1000e+01,\n",
       "        6.0000e+00],\n",
       "       [1.2800e+02, 2.5000e+01, 2.9840e+04, ..., 4.3200e+02, 4.0000e+00,\n",
       "        0.0000e+00],\n",
       "       ...,\n",
       "       [4.9000e+01, 9.0000e+00, 1.6200e+02, ..., 2.1380e+03, 2.5000e+01,\n",
       "        6.0000e+00],\n",
       "       [4.8000e+01, 1.0000e+01, 3.4500e+02, ..., 1.4740e+03, 1.9000e+01,\n",
       "        2.0000e+00],\n",
       "       [6.5000e+01, 1.1000e+01, 1.2339e+04, ..., 1.9220e+03, 2.2000e+01,\n",
       "        4.0000e+00]])"
      ]
     },
     "execution_count": 10,
     "metadata": {},
     "output_type": "execute_result"
    }
   ],
   "source": [
    "x_test_adv"
   ]
  },
  {
   "cell_type": "code",
   "execution_count": 12,
   "metadata": {},
   "outputs": [
    {
     "name": "stdout",
     "output_type": "stream",
     "text": [
      "Benign Training Score: 0.9916\n"
     ]
    }
   ],
   "source": [
    "score = model.score(x_train, y_train)\n",
    "print(\"Benign Training Score: %.4f\" % score)"
   ]
  },
  {
   "cell_type": "code",
   "execution_count": 13,
   "metadata": {},
   "outputs": [
    {
     "name": "stdout",
     "output_type": "stream",
     "text": [
      "Adversarial Training Score: 0.9916\n"
     ]
    }
   ],
   "source": [
    "score = model.score(x_train_adv, y_train)\n",
    "print(\"Adversarial Training Score: %.4f\" % score)"
   ]
  },
  {
   "cell_type": "code",
   "execution_count": 14,
   "metadata": {},
   "outputs": [
    {
     "name": "stdout",
     "output_type": "stream",
     "text": [
      "Benign Test Score: 0.9512\n"
     ]
    }
   ],
   "source": [
    "score = model.score(x_test, y_test)\n",
    "print(\"Benign Test Score: %.4f\" % score)"
   ]
  },
  {
   "cell_type": "code",
   "execution_count": 15,
   "metadata": {},
   "outputs": [
    {
     "name": "stdout",
     "output_type": "stream",
     "text": [
      "Benign Test Score: 0.9512\n"
     ]
    }
   ],
   "source": [
    "score = model.score(x_test_adv, y_test)\n",
    "print(\"Adversarial Test Score: %.4f\" % score)"
   ]
  },
  {
   "cell_type": "code",
   "execution_count": 16,
   "metadata": {},
   "outputs": [
    {
     "name": "stdout",
     "output_type": "stream",
     "text": [
      "For GradientBoostingClassifier accuracy score is  0.9511784511784511\n",
      "For GradientBoostingClassifier confusion_matrix is: \n",
      "\n",
      " [[503  11]\n",
      " [ 18  62]]\n",
      "For GradientBoostingClassifier Classification Report: \n",
      "\n",
      "               precision    recall  f1-score   support\n",
      "\n",
      "           0       0.97      0.98      0.97       514\n",
      "           1       0.85      0.78      0.81        80\n",
      "\n",
      "    accuracy                           0.95       594\n",
      "   macro avg       0.91      0.88      0.89       594\n",
      "weighted avg       0.95      0.95      0.95       594\n",
      "\n",
      "False Positive Rate: 0.021400778210116732\n"
     ]
    }
   ],
   "source": [
    "#GradientBoostingClassifier\n",
    "from sklearn.ensemble import GradientBoostingClassifier\n",
    "\n",
    "rfc=GradientBoostingClassifier(n_estimators=100)\n",
    "rfc.fit(x_train_adv,y_train)\n",
    "\n",
    "pred1=rfc.predict(x_test)\n",
    "\n",
    "#accuracy for GradientBoostingClassifier\n",
    "print('For GradientBoostingClassifier accuracy score is ',accuracy_score(y_test,pred1))\n",
    "print('For GradientBoostingClassifier confusion_matrix is: \\n\\n',confusion_matrix(y_test,pred1))\n",
    "print ('For GradientBoostingClassifier Classification Report: \\n\\n',classification_report(y_test,pred1))\n",
    "false_positive_rate=confusion_matrix(y_test,pred1)[0][1]/(confusion_matrix(y_test,pred1)[0][0]+confusion_matrix(y_test,pred1)[0][1])\n",
    "print(\"False Positive Rate: \"+str(false_positive_rate))"
   ]
  },
  {
   "cell_type": "code",
   "execution_count": 18,
   "metadata": {},
   "outputs": [
    {
     "data": {
      "text/plain": [
       "numpy.ndarray"
      ]
     },
     "execution_count": 18,
     "metadata": {},
     "output_type": "execute_result"
    }
   ],
   "source": [
    "type(x_test)"
   ]
  },
  {
   "cell_type": "code",
   "execution_count": null,
   "metadata": {},
   "outputs": [],
   "source": []
  }
 ],
 "metadata": {
  "kernelspec": {
   "display_name": "Python 3",
   "language": "python",
   "name": "python3"
  },
  "language_info": {
   "codemirror_mode": {
    "name": "ipython",
    "version": 3
   },
   "file_extension": ".py",
   "mimetype": "text/x-python",
   "name": "python",
   "nbconvert_exporter": "python",
   "pygments_lexer": "ipython3",
   "version": "3.8.3"
  }
 },
 "nbformat": 4,
 "nbformat_minor": 4
}
